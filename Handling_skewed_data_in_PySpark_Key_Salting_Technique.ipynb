{
  "nbformat": 4,
  "nbformat_minor": 0,
  "metadata": {
    "colab": {
      "name": "Handling_skewed_data_in_PySpark_Key_Salting_Technique.ipynb",
      "provenance": [],
      "collapsed_sections": []
    },
    "kernelspec": {
      "name": "python3",
      "display_name": "Python 3"
    },
    "language_info": {
      "name": "python"
    }
  },
  "cells": [
    {
      "cell_type": "markdown",
      "metadata": {
        "id": "1x1BCzjEQD0m"
      },
      "source": [
        "**Setting up Hadoop and Pyspark **"
      ]
    },
    {
      "cell_type": "code",
      "metadata": {
        "id": "yN1ISgFO3vUr"
      },
      "source": [
        "!apt-get install openjdk-8-jdk-headless -qq > /dev/null\n",
        "!wget -q https://downloads.apache.org/spark/spark-3.1.2/spark-3.1.2-bin-hadoop3.2.tgz\n",
        "!tar -xvzf spark-3.1.2-bin-hadoop3.2.tgz\n",
        "!pip install -q findspark\n",
        "import os\n",
        "os.environ[\"JAVA_HOME\"] = \"/usr/lib/jvm/java-8-openjdk-amd64\"\n",
        "os.environ[\"SPARK_HOME\"] = \"/content/spark-3.1.2-bin-hadoop3.2\""
      ],
      "execution_count": null,
      "outputs": []
    },
    {
      "cell_type": "code",
      "metadata": {
        "id": "RqA55wtV5g7H"
      },
      "source": [
        "from google.colab import drive\n",
        "drive.mount('/content/drive')\n",
        "!pip install pyspark\n"
      ],
      "execution_count": null,
      "outputs": []
    },
    {
      "cell_type": "markdown",
      "metadata": {
        "id": "pZoGsXJojunA"
      },
      "source": [
        "**First let's understand about data skewness**"
      ]
    },
    {
      "cell_type": "code",
      "metadata": {
        "colab": {
          "base_uri": "https://localhost:8080/"
        },
        "id": "wNeU2zLqUHAE",
        "outputId": "1ecf6d97-cbb9-4237-d5ce-cba9e0fcb948"
      },
      "source": [
        "from pyspark.sql import SparkSession\n",
        "from pyspark.sql.functions import *\n",
        "\n",
        "spark = SparkSession.builder.appName(\"Data_Skewness\").getOrCreate()\n",
        "df = spark.read.csv(\"/content/drive/MyDrive/Colab Notebooks/skewed_data.csv\", header=True)\n",
        "\n",
        "df.show()"
      ],
      "execution_count": 3,
      "outputs": [
        {
          "output_type": "stream",
          "text": [
            "+------+--------------+----------+-------+\n",
            "|emp_id|      emp_name|emp_salary|dept_id|\n",
            "+------+--------------+----------+-------+\n",
            "|     1|Burton Camacho|     59958|      1|\n",
            "|     1|Burton Camacho|     59958|      1|\n",
            "|     1|Burton Camacho|     59958|      1|\n",
            "|     1|   Elvis Giles|     44313|      2|\n",
            "|     1|   Elvis Giles|     44313|      2|\n",
            "|     1|   Elvis Giles|     44313|      2|\n",
            "|     1|   Elton Wolfe|     59464|      3|\n",
            "|     1| Neil Townsend|     24340|      3|\n",
            "|     1|   Elton Wolfe|     59464|      3|\n",
            "|     1| Neil Townsend|     24340|      3|\n",
            "|     1|   Elton Wolfe|     59464|      3|\n",
            "|     1| Neil Townsend|     24340|      3|\n",
            "|     1|    Troy Ochoa|     62251|      4|\n",
            "|     1|    Troy Ochoa|     62251|      4|\n",
            "|     1|    Troy Ochoa|     62251|      4|\n",
            "|     1|  Cruz Griffin|     42975|      5|\n",
            "|     1|  Trevor Oneal|     88365|      5|\n",
            "|     1|  Cruz Griffin|     42975|      5|\n",
            "|     1|  Trevor Oneal|     88365|      5|\n",
            "|     1|  Cruz Griffin|     42975|      5|\n",
            "+------+--------------+----------+-------+\n",
            "only showing top 20 rows\n",
            "\n"
          ],
          "name": "stdout"
        }
      ]
    },
    {
      "cell_type": "code",
      "metadata": {
        "colab": {
          "base_uri": "https://localhost:8080/"
        },
        "id": "QeyV5Nnoatl5",
        "outputId": "2ca68095-928f-4fdf-b068-a9de289f4b6e"
      },
      "source": [
        "from pyspark.sql.functions import *\n",
        "\n",
        "agg_df = df.groupBy('emp_id')\\\n",
        "        .agg(count('emp_id').alias('total_records'))\n",
        "agg_df.show()"
      ],
      "execution_count": 4,
      "outputs": [
        {
          "output_type": "stream",
          "text": [
            "+------+-------------+\n",
            "|emp_id|total_records|\n",
            "+------+-------------+\n",
            "|     7|            9|\n",
            "|     8|           12|\n",
            "|     5|            6|\n",
            "|     6|           17|\n",
            "|     9|            9|\n",
            "|     1|           85|\n",
            "|    10|            8|\n",
            "+------+-------------+\n",
            "\n"
          ],
          "name": "stdout"
        }
      ]
    },
    {
      "cell_type": "code",
      "metadata": {
        "colab": {
          "base_uri": "https://localhost:8080/"
        },
        "id": "AaLd00oNbWCd",
        "outputId": "05adb176-d7a2-4346-fada-46e6bac7dbd2"
      },
      "source": [
        "dept_df = spark.createDataFrame([(1,'A'), (2,'B'), (3,'C'), (4,'D'), (5,'E'), (6,'F'), (7,'G'), (8,'H'), (9,'I'), (10,'J')], ['dept_id', 'dept_name'])\n",
        "dept_df.show()"
      ],
      "execution_count": 5,
      "outputs": [
        {
          "output_type": "stream",
          "text": [
            "+-------+---------+\n",
            "|dept_id|dept_name|\n",
            "+-------+---------+\n",
            "|      1|        A|\n",
            "|      2|        B|\n",
            "|      3|        C|\n",
            "|      4|        D|\n",
            "|      5|        E|\n",
            "|      6|        F|\n",
            "|      7|        G|\n",
            "|      8|        H|\n",
            "|      9|        I|\n",
            "|     10|        J|\n",
            "+-------+---------+\n",
            "\n"
          ],
          "name": "stdout"
        }
      ]
    },
    {
      "cell_type": "code",
      "metadata": {
        "colab": {
          "base_uri": "https://localhost:8080/"
        },
        "id": "q4jiPvHbcPwS",
        "outputId": "e89f4bac-7e64-4bba-d5b6-33f6909313f9"
      },
      "source": [
        "# created a skewed distribution of records here \n",
        "df = df.repartition(10, 'emp_id')\n",
        "\n",
        "print('num partitions : ', df.rdd.getNumPartitions())\n",
        "\n",
        "df = df.withColumn('partition_id', spark_partition_id())\n",
        "\n",
        "agg_df = df.groupBy('partition_id')\\\n",
        "        .agg(count('emp_id').alias('total_records'))\\\n",
        "        \n",
        "agg_df.orderBy(desc(col('total_records'))).show()\n",
        "\n",
        "# join will take more time in real scenario because df is highly skewed on emp_id for value 1\n",
        "# see partition_id 4 has 85 records...\n",
        "df_joined = df.join(dept_df, df.dept_id==dept_df.dept_id,'left')\\\n",
        "              .drop(dept_df.dept_id)\n",
        "\n",
        "df_joined.show()"
      ],
      "execution_count": 6,
      "outputs": [
        {
          "output_type": "stream",
          "text": [
            "num partitions :  10\n",
            "+------------+-------------+\n",
            "|partition_id|total_records|\n",
            "+------------+-------------+\n",
            "|           4|           85|\n",
            "|           5|           25|\n",
            "|           9|           15|\n",
            "|           6|           12|\n",
            "|           3|            9|\n",
            "+------------+-------------+\n",
            "\n",
            "+------+-----------------+----------+-------+------------+---------+\n",
            "|emp_id|         emp_name|emp_salary|dept_id|partition_id|dept_name|\n",
            "+------+-----------------+----------+-------+------------+---------+\n",
            "|     1|      Philip Cole|     33245|      7|           4|        G|\n",
            "|     1|  Patrick Sweeney|     59835|      7|           4|        G|\n",
            "|     1|      Philip Cole|     33245|      7|           4|        G|\n",
            "|     1|  Patrick Sweeney|     59835|      7|           4|        G|\n",
            "|     1|      Philip Cole|     33245|      7|           4|        G|\n",
            "|     1|  Patrick Sweeney|     59835|      7|           4|        G|\n",
            "|    10|    Ian Donaldson|     47112|      7|           5|        G|\n",
            "|     8|     Rahim Franks|     79933|      7|           6|        G|\n",
            "|     8|   Cedric Schmidt|     24224|      7|           6|        G|\n",
            "|     5|      Hasad Owens|     54293|      7|           9|        G|\n",
            "|     5| Oliver Rodriguez|     89108|      7|           9|        G|\n",
            "|     9|Gregory Mcfarland|     89484|      7|           9|        G|\n",
            "|     7|   Chaim Carrillo|     32027|      6|           3|        F|\n",
            "|     7|    Aidan Rosario|     14678|      6|           3|        F|\n",
            "|     1|  Bruno Cervantes|     21251|      6|           4|        F|\n",
            "|     1|  Bruno Cervantes|     21251|      6|           4|        F|\n",
            "|     1|  Bruno Cervantes|     21251|      6|           4|        F|\n",
            "|     1|  Bruno Cervantes|     21251|      6|           4|        F|\n",
            "|     1|  Bruno Cervantes|     21251|      6|           4|        F|\n",
            "|     6|       Gage Kelly|     63013|      6|           5|        F|\n",
            "+------+-----------------+----------+-------+------------+---------+\n",
            "only showing top 20 rows\n",
            "\n"
          ],
          "name": "stdout"
        }
      ]
    },
    {
      "cell_type": "markdown",
      "metadata": {
        "id": "g9ekjDzSja7E"
      },
      "source": [
        "**Actual logic begins here for handling Data Skewness Issue...**"
      ]
    },
    {
      "cell_type": "code",
      "metadata": {
        "colab": {
          "base_uri": "https://localhost:8080/"
        },
        "id": "SslIuexGeU2k",
        "outputId": "ef8308f1-93a8-4bc9-b1a7-2689dacf064f"
      },
      "source": [
        "# creating data skewness scenario \n",
        "df = df.repartition(10, 'emp_id')\n",
        "df = df.withColumn('partition_id', spark_partition_id())\n",
        "\n",
        "agg_df = df.groupBy('partition_id')\\\n",
        "        .agg(count('emp_id').alias('total_records'))\\\n",
        "        \n",
        "agg_df.orderBy(desc(col('total_records'))).show()"
      ],
      "execution_count": 7,
      "outputs": [
        {
          "output_type": "stream",
          "text": [
            "+------------+-------------+\n",
            "|partition_id|total_records|\n",
            "+------------+-------------+\n",
            "|           4|           85|\n",
            "|           5|           25|\n",
            "|           9|           15|\n",
            "|           6|           12|\n",
            "|           3|            9|\n",
            "+------------+-------------+\n",
            "\n"
          ],
          "name": "stdout"
        }
      ]
    },
    {
      "cell_type": "code",
      "metadata": {
        "colab": {
          "base_uri": "https://localhost:8080/"
        },
        "id": "-TPvAxopf66h",
        "outputId": "6beff93d-9dad-4594-e1a9-cee1eb340b44"
      },
      "source": [
        "# generate a column having random values between a range \n",
        "df = df.withColumn('random_int', (rand()*10).cast('int'))\n",
        "\n",
        "print(\"You can see random_int values are distributed properly for emp_id=1\")\n",
        "df.filter(col('emp_id')==1).show()\n",
        "\n",
        "# create a salted key for source table \n",
        "\n",
        "df = df.withColumn('salted_key_src', concat(col('dept_id'), col('random_int')))\\\n",
        "      .drop('random_int')\n",
        "\n",
        "df.show(10)"
      ],
      "execution_count": 8,
      "outputs": [
        {
          "output_type": "stream",
          "text": [
            "You can see random_int values are distributed properly for emp_id=1\n",
            "+------+--------------+----------+-------+------------+----------+\n",
            "|emp_id|      emp_name|emp_salary|dept_id|partition_id|random_int|\n",
            "+------+--------------+----------+-------+------------+----------+\n",
            "|     1|Burton Camacho|     59958|      1|           4|         1|\n",
            "|     1|Burton Camacho|     59958|      1|           4|         1|\n",
            "|     1|Burton Camacho|     59958|      1|           4|         4|\n",
            "|     1|   Elvis Giles|     44313|      2|           4|         1|\n",
            "|     1|   Elvis Giles|     44313|      2|           4|         5|\n",
            "|     1|   Elvis Giles|     44313|      2|           4|         2|\n",
            "|     1|   Elton Wolfe|     59464|      3|           4|         9|\n",
            "|     1| Neil Townsend|     24340|      3|           4|         0|\n",
            "|     1|   Elton Wolfe|     59464|      3|           4|         4|\n",
            "|     1| Neil Townsend|     24340|      3|           4|         4|\n",
            "|     1|   Elton Wolfe|     59464|      3|           4|         3|\n",
            "|     1| Neil Townsend|     24340|      3|           4|         2|\n",
            "|     1|    Troy Ochoa|     62251|      4|           4|         9|\n",
            "|     1|    Troy Ochoa|     62251|      4|           4|         8|\n",
            "|     1|    Troy Ochoa|     62251|      4|           4|         1|\n",
            "|     1|  Cruz Griffin|     42975|      5|           4|         4|\n",
            "|     1|  Trevor Oneal|     88365|      5|           4|         7|\n",
            "|     1|  Cruz Griffin|     42975|      5|           4|         8|\n",
            "|     1|  Trevor Oneal|     88365|      5|           4|         6|\n",
            "|     1|  Cruz Griffin|     42975|      5|           4|         9|\n",
            "+------+--------------+----------+-------+------------+----------+\n",
            "only showing top 20 rows\n",
            "\n",
            "+------+----------------+----------+-------+------------+--------------+\n",
            "|emp_id|        emp_name|emp_salary|dept_id|partition_id|salted_key_src|\n",
            "+------+----------------+----------+-------+------------+--------------+\n",
            "|     7| Carson Jacobson|     67124|      1|           3|            17|\n",
            "|     7|     Jin Baldwin|     73739|      1|           3|            19|\n",
            "|     7|      Jerry Wolf|     37476|      2|           3|            28|\n",
            "|     7|Driscoll England|     67913|      2|           3|            26|\n",
            "|     7|  Cody Carpenter|     82574|      2|           3|            20|\n",
            "|     7|    Tobias Bauer|     99368|      5|           3|            55|\n",
            "|     7|  Chaim Carrillo|     32027|      6|           3|            67|\n",
            "|     7|   Aidan Rosario|     14678|      6|           3|            62|\n",
            "|     7|     Emery Boone|     90724|      8|           3|            86|\n",
            "|     1|  Burton Camacho|     59958|      1|           4|            11|\n",
            "+------+----------------+----------+-------+------------+--------------+\n",
            "only showing top 10 rows\n",
            "\n"
          ],
          "name": "stdout"
        }
      ]
    },
    {
      "cell_type": "code",
      "metadata": {
        "colab": {
          "base_uri": "https://localhost:8080/"
        },
        "id": "N12Ukf3zhyl-",
        "outputId": "ce30436a-d276-476d-8ba2-41818a809b44"
      },
      "source": [
        "# create salted key for dept_df (this second df typically has less records)\n",
        "\n",
        "dept_df.show()\n",
        "\n",
        "l = [lit(i) for i in range(10)]\n",
        "print(\"list: \", l)\n",
        "\n",
        "print(\"Add array of range values\")\n",
        "dept_df = dept_df.withColumn('range_val', array(l))\n",
        "dept_df.show()\n",
        "\n",
        "print(\"After explode operation\")\n",
        "dept_df = dept_df.select('dept_id', 'dept_name', explode('range_val').alias('range_val'))\n",
        "dept_df.show()\n",
        "\n",
        "# create salted key for dept_df\n",
        "dept_df = dept_df.withColumn('salted_key_dept', concat(col('dept_id'), col('range_val')))\n",
        "\n",
        "print(\"After creating salted key\")\n",
        "dept_df.show()"
      ],
      "execution_count": 11,
      "outputs": [
        {
          "output_type": "stream",
          "text": [
            "+-------+---------+---------+---------------+\n",
            "|dept_id|dept_name|range_val|salted_key_dept|\n",
            "+-------+---------+---------+---------------+\n",
            "|      1|        A|        1|             11|\n",
            "|      1|        A|        2|             12|\n",
            "|      1|        A|        3|             13|\n",
            "|      1|        A|        4|             14|\n",
            "|      1|        A|        5|             15|\n",
            "|      1|        A|        6|             16|\n",
            "|      1|        A|        7|             17|\n",
            "|      1|        A|        8|             18|\n",
            "|      1|        A|        9|             19|\n",
            "|      2|        B|        1|             21|\n",
            "|      2|        B|        2|             22|\n",
            "|      2|        B|        3|             23|\n",
            "|      2|        B|        4|             24|\n",
            "|      2|        B|        5|             25|\n",
            "|      2|        B|        6|             26|\n",
            "|      2|        B|        7|             27|\n",
            "|      2|        B|        8|             28|\n",
            "|      2|        B|        9|             29|\n",
            "|      3|        C|        1|             31|\n",
            "|      3|        C|        2|             32|\n",
            "+-------+---------+---------+---------------+\n",
            "only showing top 20 rows\n",
            "\n",
            "list:  [Column<'0'>, Column<'1'>, Column<'2'>, Column<'3'>, Column<'4'>, Column<'5'>, Column<'6'>, Column<'7'>, Column<'8'>, Column<'9'>]\n",
            "Add array of range values\n",
            "+-------+---------+--------------------+---------------+\n",
            "|dept_id|dept_name|           range_val|salted_key_dept|\n",
            "+-------+---------+--------------------+---------------+\n",
            "|      1|        A|[0, 1, 2, 3, 4, 5...|             11|\n",
            "|      1|        A|[0, 1, 2, 3, 4, 5...|             12|\n",
            "|      1|        A|[0, 1, 2, 3, 4, 5...|             13|\n",
            "|      1|        A|[0, 1, 2, 3, 4, 5...|             14|\n",
            "|      1|        A|[0, 1, 2, 3, 4, 5...|             15|\n",
            "|      1|        A|[0, 1, 2, 3, 4, 5...|             16|\n",
            "|      1|        A|[0, 1, 2, 3, 4, 5...|             17|\n",
            "|      1|        A|[0, 1, 2, 3, 4, 5...|             18|\n",
            "|      1|        A|[0, 1, 2, 3, 4, 5...|             19|\n",
            "|      2|        B|[0, 1, 2, 3, 4, 5...|             21|\n",
            "|      2|        B|[0, 1, 2, 3, 4, 5...|             22|\n",
            "|      2|        B|[0, 1, 2, 3, 4, 5...|             23|\n",
            "|      2|        B|[0, 1, 2, 3, 4, 5...|             24|\n",
            "|      2|        B|[0, 1, 2, 3, 4, 5...|             25|\n",
            "|      2|        B|[0, 1, 2, 3, 4, 5...|             26|\n",
            "|      2|        B|[0, 1, 2, 3, 4, 5...|             27|\n",
            "|      2|        B|[0, 1, 2, 3, 4, 5...|             28|\n",
            "|      2|        B|[0, 1, 2, 3, 4, 5...|             29|\n",
            "|      3|        C|[0, 1, 2, 3, 4, 5...|             31|\n",
            "|      3|        C|[0, 1, 2, 3, 4, 5...|             32|\n",
            "+-------+---------+--------------------+---------------+\n",
            "only showing top 20 rows\n",
            "\n",
            "After explode operation\n",
            "+-------+---------+---------+\n",
            "|dept_id|dept_name|range_val|\n",
            "+-------+---------+---------+\n",
            "|      1|        A|        0|\n",
            "|      1|        A|        1|\n",
            "|      1|        A|        2|\n",
            "|      1|        A|        3|\n",
            "|      1|        A|        4|\n",
            "|      1|        A|        5|\n",
            "|      1|        A|        6|\n",
            "|      1|        A|        7|\n",
            "|      1|        A|        8|\n",
            "|      1|        A|        9|\n",
            "|      1|        A|        0|\n",
            "|      1|        A|        1|\n",
            "|      1|        A|        2|\n",
            "|      1|        A|        3|\n",
            "|      1|        A|        4|\n",
            "|      1|        A|        5|\n",
            "|      1|        A|        6|\n",
            "|      1|        A|        7|\n",
            "|      1|        A|        8|\n",
            "|      1|        A|        9|\n",
            "+-------+---------+---------+\n",
            "only showing top 20 rows\n",
            "\n",
            "After creating salted key\n",
            "+-------+---------+---------+---------------+\n",
            "|dept_id|dept_name|range_val|salted_key_dept|\n",
            "+-------+---------+---------+---------------+\n",
            "|      1|        A|        0|             10|\n",
            "|      1|        A|        1|             11|\n",
            "|      1|        A|        2|             12|\n",
            "|      1|        A|        3|             13|\n",
            "|      1|        A|        4|             14|\n",
            "|      1|        A|        5|             15|\n",
            "|      1|        A|        6|             16|\n",
            "|      1|        A|        7|             17|\n",
            "|      1|        A|        8|             18|\n",
            "|      1|        A|        9|             19|\n",
            "|      1|        A|        0|             10|\n",
            "|      1|        A|        1|             11|\n",
            "|      1|        A|        2|             12|\n",
            "|      1|        A|        3|             13|\n",
            "|      1|        A|        4|             14|\n",
            "|      1|        A|        5|             15|\n",
            "|      1|        A|        6|             16|\n",
            "|      1|        A|        7|             17|\n",
            "|      1|        A|        8|             18|\n",
            "|      1|        A|        9|             19|\n",
            "+-------+---------+---------+---------------+\n",
            "only showing top 20 rows\n",
            "\n"
          ],
          "name": "stdout"
        }
      ]
    },
    {
      "cell_type": "code",
      "metadata": {
        "colab": {
          "base_uri": "https://localhost:8080/"
        },
        "id": "oqVC5SoKjWcI",
        "outputId": "e5b99404-980b-42a9-d1ec-b62fed6022c7"
      },
      "source": [
        "df_joined = df.join(dept_df, df.salted_key_src==dept_df.salted_key_dept,'left')\\\n",
        "              .drop(dept_df.dept_id)\n",
        "\n",
        "print(\"total records: \", df_joined.count())\n",
        "df_joined.show()"
      ],
      "execution_count": 12,
      "outputs": [
        {
          "output_type": "stream",
          "text": [
            "total records:  1314\n",
            "+------+--------------+----------+-------+------------+--------------+---------+---------+---------------+\n",
            "|emp_id|      emp_name|emp_salary|dept_id|partition_id|salted_key_src|dept_name|range_val|salted_key_dept|\n",
            "+------+--------------+----------+-------+------------+--------------+---------+---------+---------------+\n",
            "|     1|  Trevor Oneal|     88365|      5|           4|            51|        E|        1|             51|\n",
            "|     1|  Trevor Oneal|     88365|      5|           4|            51|        E|        1|             51|\n",
            "|     1|  Trevor Oneal|     88365|      5|           4|            51|        E|        1|             51|\n",
            "|     1|  Trevor Oneal|     88365|      5|           4|            51|        E|        1|             51|\n",
            "|     1|  Trevor Oneal|     88365|      5|           4|            51|        E|        1|             51|\n",
            "|     1|  Trevor Oneal|     88365|      5|           4|            51|        E|        1|             51|\n",
            "|     1|  Trevor Oneal|     88365|      5|           4|            51|        E|        1|             51|\n",
            "|     1|  Trevor Oneal|     88365|      5|           4|            51|        E|        1|             51|\n",
            "|     1|  Trevor Oneal|     88365|      5|           4|            51|        E|        1|             51|\n",
            "|     1|  Cruz Griffin|     42975|      5|           4|            51|        E|        1|             51|\n",
            "|     1|  Cruz Griffin|     42975|      5|           4|            51|        E|        1|             51|\n",
            "|     1|  Cruz Griffin|     42975|      5|           4|            51|        E|        1|             51|\n",
            "|     1|  Cruz Griffin|     42975|      5|           4|            51|        E|        1|             51|\n",
            "|     1|  Cruz Griffin|     42975|      5|           4|            51|        E|        1|             51|\n",
            "|     1|  Cruz Griffin|     42975|      5|           4|            51|        E|        1|             51|\n",
            "|     1|  Cruz Griffin|     42975|      5|           4|            51|        E|        1|             51|\n",
            "|     1|  Cruz Griffin|     42975|      5|           4|            51|        E|        1|             51|\n",
            "|     1|  Cruz Griffin|     42975|      5|           4|            51|        E|        1|             51|\n",
            "|     1|Burton Camacho|     59958|      1|           4|            15|        A|        5|             15|\n",
            "|     1|Burton Camacho|     59958|      1|           4|            15|        A|        5|             15|\n",
            "+------+--------------+----------+-------+------------+--------------+---------+---------+---------------+\n",
            "only showing top 20 rows\n",
            "\n"
          ],
          "name": "stdout"
        }
      ]
    }
  ]
}