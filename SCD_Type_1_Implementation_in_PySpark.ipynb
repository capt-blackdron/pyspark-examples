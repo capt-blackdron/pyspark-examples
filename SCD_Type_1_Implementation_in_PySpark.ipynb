{
  "nbformat": 4,
  "nbformat_minor": 0,
  "metadata": {
    "colab": {
      "name": "SCD 1 Implementation in PySpark.ipynb",
      "provenance": [],
      "collapsed_sections": []
    },
    "kernelspec": {
      "name": "python3",
      "display_name": "Python 3"
    },
    "language_info": {
      "name": "python"
    }
  },
  "cells": [
    {
      "cell_type": "markdown",
      "metadata": {
        "id": "1x1BCzjEQD0m"
      },
      "source": [
        "**Setting up Hadoop and Pyspark **"
      ]
    },
    {
      "cell_type": "code",
      "metadata": {
        "id": "yN1ISgFO3vUr"
      },
      "source": [
        "!apt-get install openjdk-8-jdk-headless -qq > /dev/null\n",
        "!wget -q https://downloads.apache.org/spark/spark-3.1.2/spark-3.1.2-bin-hadoop3.2.tgz\n",
        "!tar -xvzf spark-3.1.2-bin-hadoop3.2.tgz\n",
        "!pip install -q findspark\n",
        "import os\n",
        "os.environ[\"JAVA_HOME\"] = \"/usr/lib/jvm/java-8-openjdk-amd64\"\n",
        "os.environ[\"SPARK_HOME\"] = \"/content/spark-3.1.2-bin-hadoop3.2\""
      ],
      "execution_count": null,
      "outputs": []
    },
    {
      "cell_type": "code",
      "metadata": {
        "id": "RqA55wtV5g7H",
        "colab": {
          "base_uri": "https://localhost:8080/"
        },
        "outputId": "6c06190c-3736-4064-ee25-fa9e3b358eac"
      },
      "source": [
        "from google.colab import drive\n",
        "drive.mount('/content/drive')\n",
        "!pip install pyspark\n"
      ],
      "execution_count": 3,
      "outputs": [
        {
          "output_type": "stream",
          "text": [
            "  Building wheel for pyspark (setup.py) ... \u001b[?25l\u001b[?25hdone\n",
            "  Created wheel for pyspark: filename=pyspark-3.1.2-py2.py3-none-any.whl size=212880768 sha256=f49af4ede8f989bec482892df4ec426210072cefc4970900e42080eee11740e0\n",
            "  Stored in directory: /root/.cache/pip/wheels/40/1b/2c/30f43be2627857ab80062bef1527c0128f7b4070b6b2d02139\n",
            "Successfully built pyspark\n",
            "Installing collected packages: py4j, pyspark\n",
            "Successfully installed py4j-0.10.9 pyspark-3.1.2\n"
          ],
          "name": "stdout"
        }
      ]
    },
    {
      "cell_type": "code",
      "metadata": {
        "id": "pT0qcjenTMVu"
      },
      "source": [
        "SCD 1 EXAMPLE CODE : Strategy: Update existing records and insert new records"
      ],
      "execution_count": null,
      "outputs": []
    },
    {
      "cell_type": "markdown",
      "metadata": {
        "id": "w9OS59f7ZZdr"
      },
      "source": [
        "**First Create a Target Table** \n",
        "\n",
        "`create external table dev_db.employee(emp_id int, emp_name string, email_id string, state string) stored as ORC location 'hdfs_path';`\n"
      ]
    },
    {
      "cell_type": "code",
      "metadata": {
        "colab": {
          "base_uri": "https://localhost:8080/"
        },
        "id": "wNeU2zLqUHAE",
        "outputId": "f0beb70b-f04f-48c7-f830-5cc089143270"
      },
      "source": [
        "from pyspark.sql import SparkSession\n",
        "from pyspark.sql.functions import *\n",
        "\n",
        "spark = SparkSession.builder.appName(\"SCD1_DEMO\").getOrCreate()\n",
        "\n",
        "# load_date value will be '2021-07-01' when the first time you run\n",
        "# You can pass load_date to spark program through command line arguments\n",
        "# load_date = sys.argv[1] #2021-07-01\n",
        "# for testing I have hardcoded this value\n",
        "load_date = '2021-07-01'\n",
        "target_table = 'employee'\n",
        "\n",
        "# we cannot use Hive in colab that's why I am saving this dataframe as a table here...\n",
        "# Assume you have created a hive table using 'create table ' command\n",
        "df = spark.read.csv(\"/content/drive/MyDrive/Colab Notebooks/emp_data_{}.csv\".format(load_date), header=True)\n",
        "df.createOrReplaceTempView('target_table_view')\n",
        "spark.sql(\"create table if not exists {} like target_table_view\".format(target_table))\n",
        "spark.read.table(target_table).printSchema()\n"
      ],
      "execution_count": 31,
      "outputs": [
        {
          "output_type": "stream",
          "text": [
            "root\n",
            " |-- emp_id: string (nullable = true)\n",
            " |-- emp_name: string (nullable = true)\n",
            " |-- email_id: string (nullable = true)\n",
            " |-- state: string (nullable = true)\n",
            "\n"
          ],
          "name": "stdout"
        }
      ]
    },
    {
      "cell_type": "code",
      "metadata": {
        "colab": {
          "base_uri": "https://localhost:8080/"
        },
        "id": "TNtsAZ0bfSge",
        "outputId": "6ef40ff9-fa91-4880-d389-da31f8de1cd4"
      },
      "source": [
        "#below 4 lines are for testing purpose as on next run data will already exist in colab\n",
        "#insert overwrite is not supported in colab for same table..\n",
        "#so here I am creating an empty table\n",
        "spark.sql(\"drop table if exists employee_temp\")\n",
        "spark.sql(\"create table employee_temp like employee\")\n",
        "spark.sql(\"drop table if exists employee\")\n",
        "spark.sql(\"alter table employee_temp rename to employee\")\n",
        "\n",
        "def load_data(load_date):\n",
        "  print(\"Performing data load for '{}'\".format(load_date))\n",
        "  \n",
        "  target_table = 'employee'\n",
        "\n",
        "  # step 1 -- read the current date data from file \n",
        "  df = spark.read.csv(\"/content/drive/MyDrive/Colab Notebooks/emp_data_{}.csv\".format(load_date), header=True)\n",
        "  \n",
        "  # step 2 -- read target table data \n",
        "  target_df = spark.read.table(target_table)\n",
        "  \n",
        "  #target_df.show()\n",
        "\n",
        "  # for the first load target_df will not have any records \n",
        "\n",
        "  ''' \n",
        "  step 3 -- join target df with current df  and identify which records are changed \n",
        "  and update values of those columns\n",
        "  '''\n",
        "\n",
        "  df = df.select(col('emp_id').alias('emp_id_new'), col('emp_name').alias('emp_name_new'),\n",
        "                col('email_id').alias('email_id_new'), col('state').alias('state_new'))\n",
        "\n",
        "  #df.show(50)\n",
        "\n",
        "  merged_df = target_df.join(df, col('emp_id')==col('emp_id_new'), 'full')\\\n",
        "              .withColumn('emp_id', when(col('emp_id_new').isNotNull(), col('emp_id_new')).otherwise(col('emp_id')))\\\n",
        "              .withColumn('emp_name', when(col('emp_name_new').isNotNull(), col('emp_name_new')).otherwise(col('emp_name')))\\\n",
        "              .withColumn('email_id', when(col('email_id_new').isNotNull(), col('email_id_new')).otherwise(col('email_id')))\\\n",
        "              .withColumn('state', when(col('state_new').isNotNull(), col('state_new')).otherwise(col('state')))\\\n",
        "              .select('emp_id', 'emp_name', 'email_id', 'state')\n",
        "\n",
        "  #merged_df.show(50)\n",
        "\n",
        "  # step 4 -- write merged df to target table (not supported in colab)\n",
        "  # merged_df.write.mode('overwrite').saveAsTable(target_table)\n",
        "\n",
        "  #below three lines are for testing purpose as overwrite to same table is not supported in colab\n",
        "  temp_table = 'employee_temp'\n",
        "  merged_df.write.mode('overwrite').saveAsTable(temp_table)\n",
        "  spark.sql(\"insert overwrite table {} select * from {}\".format(target_table, temp_table))\n",
        "\n",
        "  print(\"Data loaded for '{}'\".format(load_date))\n",
        "  print(\"Target Table\")\n",
        "  spark.read.table(target_table).show(100)\n",
        "\n",
        "load_data('2021-07-01')\n",
        "load_data('2021-07-02')"
      ],
      "execution_count": 36,
      "outputs": [
        {
          "output_type": "stream",
          "text": [
            "Performing data load for '2021-07-01'\n",
            "+------+--------+--------+-----+\n",
            "|emp_id|emp_name|email_id|state|\n",
            "+------+--------+--------+-----+\n",
            "+------+--------+--------+-----+\n",
            "\n",
            "Data loaded for '2021-07-01'\n",
            "Target Table\n",
            "+------+--------------------+--------------------+-----+\n",
            "|emp_id|            emp_name|            email_id|state|\n",
            "+------+--------------------+--------------------+-----+\n",
            "|     2|Shiela Altenwerth...|ialtenwerth@rolfs...|   GA|\n",
            "|    20|Dr. Kurt Murazik DDS|lucacummerata@run...|   NH|\n",
            "|     6|Dr. Drusilla Olso...|concepcion18@hotm...|   NE|\n",
            "|     8|Mr. Maximo Bayer DDS|johnsonbelva@yaho...|   DC|\n",
            "|     9|  Doctor Considine I|jamiereynolds@bar...|   NH|\n",
            "|    12|        Adison Lemke|jacquelinestanton...|   WV|\n",
            "|    15| Windell Cruickshank|hhodkiewicz@lemke...|   CO|\n",
            "|    18|         Loni Senger|clueilwitz@muelle...|   MO|\n",
            "|     1|       Denis Hagenes|leroy83@runolfsdo...|   AS|\n",
            "|     7| Dr. Cade Shields MD|clevie31@hotmail.com|   CT|\n",
            "|    16|Miss Michal Carte...|    elam85@gmail.com|   MN|\n",
            "|     3| Elois Marquardt PhD|cornel12@hotmail.com|   MN|\n",
            "|    17|      Yolanda Kirlin|rodryan@koss-damo...|   OK|\n",
            "|     5|       Jerri Spencer|wolffkatarina@hot...|   LA|\n",
            "|     4|       Leila Simonis|lidie39@satterfie...|   NC|\n",
            "|    22|         Corie Kling|avonrueden@connel...|   GU|\n",
            "|    11|           Leta Koch|beerkimberlee@hot...|   VT|\n",
            "|    13|         Kadin Kulas|  vhegmann@gmail.com|   GU|\n",
            "|    19|         Fritz Moore|  bmante@hotmail.com|   WY|\n",
            "|    10|           Sky Towne| margret22@gmail.com|   MD|\n",
            "|    14|        Leann Hirthe|kylehudson@hudson...|   PW|\n",
            "|    21| Mr. Delano Ratke IV|monahanamirah@lem...|   KY|\n",
            "+------+--------------------+--------------------+-----+\n",
            "\n",
            "Performing data load for '2021-07-02'\n",
            "+------+--------------------+--------------------+-----+\n",
            "|emp_id|            emp_name|            email_id|state|\n",
            "+------+--------------------+--------------------+-----+\n",
            "|     2|Shiela Altenwerth...|ialtenwerth@rolfs...|   GA|\n",
            "|    20|Dr. Kurt Murazik DDS|lucacummerata@run...|   NH|\n",
            "|     6|Dr. Drusilla Olso...|concepcion18@hotm...|   NE|\n",
            "|     8|Mr. Maximo Bayer DDS|johnsonbelva@yaho...|   DC|\n",
            "|     9|  Doctor Considine I|jamiereynolds@bar...|   NH|\n",
            "|    12|        Adison Lemke|jacquelinestanton...|   WV|\n",
            "|    15| Windell Cruickshank|hhodkiewicz@lemke...|   CO|\n",
            "|    18|         Loni Senger|clueilwitz@muelle...|   MO|\n",
            "|     1|       Denis Hagenes|leroy83@runolfsdo...|   AS|\n",
            "|     7| Dr. Cade Shields MD|clevie31@hotmail.com|   CT|\n",
            "|    16|Miss Michal Carte...|    elam85@gmail.com|   MN|\n",
            "|     3| Elois Marquardt PhD|cornel12@hotmail.com|   MN|\n",
            "|    17|      Yolanda Kirlin|rodryan@koss-damo...|   OK|\n",
            "|     5|       Jerri Spencer|wolffkatarina@hot...|   LA|\n",
            "|     4|       Leila Simonis|lidie39@satterfie...|   NC|\n",
            "|    22|         Corie Kling|avonrueden@connel...|   GU|\n",
            "|    11|           Leta Koch|beerkimberlee@hot...|   VT|\n",
            "|    13|         Kadin Kulas|  vhegmann@gmail.com|   GU|\n",
            "|    19|         Fritz Moore|  bmante@hotmail.com|   WY|\n",
            "|    10|           Sky Towne| margret22@gmail.com|   MD|\n",
            "+------+--------------------+--------------------+-----+\n",
            "only showing top 20 rows\n",
            "\n",
            "Data loaded for '2021-07-02'\n",
            "Target Table\n",
            "+------+--------------------+--------------------+-----+\n",
            "|emp_id|            emp_name|            email_id|state|\n",
            "+------+--------------------+--------------------+-----+\n",
            "|    30|     Trevin Ebert II|gleichnermatthias...|   PW|\n",
            "|    23|       Casen Keebler|rutherforderastus...|   MI|\n",
            "|    20|Dr. Kurt Murazik DDS|lucacummerata@run...|   NH|\n",
            "|    27|      Marcos Pollich|bradhomenick@absh...|   IL|\n",
            "|    34|Dr. Alessandro La...|derrellbins@gmail...|   ID|\n",
            "|     6|Dr. Drusilla Olso...|concepcion18@hotm...|   NE|\n",
            "|    36|   Lashonda Lemke MD|kiefer85@stokes-h...|   AL|\n",
            "|     4|       Leila Simonis|kohlerjacey@king-...|   GA|\n",
            "|     8|Mr. Maximo Bayer DDS|johnsonbelva@yaho...|   DC|\n",
            "|    12|        Adison Lemke|jacquelinestanton...|   WV|\n",
            "|    33| Dr. Aracely Orn DVM|padbergivan@beier...|   MP|\n",
            "|     3| Elois Marquardt PhD|starling15@herman...|   IN|\n",
            "|    37|Miss Justina Schi...| lschoen@hotmail.com|   FM|\n",
            "|     2|Shiela Altenwerth...| kennard18@gmail.com|   GA|\n",
            "|    18|         Loni Senger|clueilwitz@muelle...|   MO|\n",
            "|     7| Dr. Cade Shields MD|clevie31@hotmail.com|   CT|\n",
            "|    13|         Kadin Kulas|brennen37@swift-s...|   PW|\n",
            "|     1|       Denis Hagenes|leroy83@runolfsdo...|   AS|\n",
            "|    17|      Yolanda Kirlin|rodryan@koss-damo...|   OK|\n",
            "|     5|       Jerri Spencer|wolffkatarina@hot...|   LA|\n",
            "|    39|        Haden Legros|dgreenfelder@hotm...|   AS|\n",
            "|    32|      Tinie O'Conner|antione35@quitzon...|   CA|\n",
            "|    26|           Era Rohan|jonatanschroeder@...|   NJ|\n",
            "|    15| Windell Cruickshank|    ukoepp@gmail.com|   AS|\n",
            "|    38|    Ozzie Labadie IV| demonte53@upton.org|   KY|\n",
            "|    11|           Leta Koch|beerkimberlee@hot...|   VT|\n",
            "|    29|       Stanton Morar|matilda31@hotmail...|   NV|\n",
            "|    25|         Odus Turner|alisonyost@hotmai...|   VI|\n",
            "|    31|        Regan Gibson|  noemie83@gmail.com|   AZ|\n",
            "|    19|         Fritz Moore|  bmante@hotmail.com|   WY|\n",
            "|    10|           Sky Towne| margret22@gmail.com|   MD|\n",
            "|    14|        Leann Hirthe|kylehudson@hudson...|   PW|\n",
            "|    21| Mr. Delano Ratke IV|monahanamirah@lem...|   KY|\n",
            "|    16|Miss Michal Carte...|    elam85@gmail.com|   MN|\n",
            "|    35| Dr. Willian Johnson|loveymorar@tillma...|   WY|\n",
            "|    24|      Hernan McClure|sunnyschaden@fish...|   ID|\n",
            "|     9|  Doctor Considine I|jamiereynolds@bar...|   NH|\n",
            "|    22|         Corie Kling|avonrueden@connel...|   GU|\n",
            "|    28|Dr. Al Stiedemann...| charles24@yahoo.com|   WY|\n",
            "+------+--------------------+--------------------+-----+\n",
            "\n"
          ],
          "name": "stdout"
        }
      ]
    }
  ]
}
